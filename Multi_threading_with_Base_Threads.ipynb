{
  "nbformat": 4,
  "nbformat_minor": 0,
  "metadata": {
    "colab": {
      "name": "Multi-threading with Base.Threads",
      "provenance": [],
      "collapsed_sections": [],
      "include_colab_link": true
    },
    "kernelspec": {
      "display_name": "Julia",
      "language": "julia",
      "name": "julia"
    },
    "language_info": {
      "file_extension": ".jl",
      "mimetype": "application/julia",
      "name": "julia"
    }
  },
  "cells": [
    {
      "cell_type": "markdown",
      "metadata": {
        "id": "view-in-github",
        "colab_type": "text"
      },
      "source": [
        "<a href=\"https://colab.research.google.com/github/macorony/Workshop-of-Parallel-Programming-in-Julia/blob/main/Multi_threading_with_Base_Threads.ipynb\" target=\"_parent\"><img src=\"https://colab.research.google.com/assets/colab-badge.svg\" alt=\"Open In Colab\"/></a>"
      ]
    },
    {
      "cell_type": "markdown",
      "metadata": {
        "id": "tQ1r1bbb0yBv"
      },
      "source": [
        "# <img src=\"https://github.com/JuliaLang/julia-logo-graphics/raw/master/images/julia-logo-color.png\" height=\"100\" /> _Colab Notebook Template_\n",
        "\n",
        "## Instructions\n",
        "1. Work on a copy of this notebook: _File_ > _Save a copy in Drive_ (you will need a Google account). Alternatively, you can download the notebook using _File_ > _Download .ipynb_, then upload it to [Colab](https://colab.research.google.com/).\n",
        "2. If you need a GPU: _Runtime_ > _Change runtime type_ > _Harware accelerator_ = _GPU_.\n",
        "3. Execute the following cell (click on it and press Ctrl+Enter) to install Julia, IJulia and other packages (if needed, update `JULIA_VERSION` and the other parameters). This takes a couple of minutes.\n",
        "4. Reload this page (press Ctrl+R, or ⌘+R, or the F5 key) and continue to the next section.\n",
        "\n",
        "_Notes_:\n",
        "* If your Colab Runtime gets reset (e.g., due to inactivity), repeat steps 2, 3 and 4.\n",
        "* After installation, if you want to change the Julia version or activate/deactivate the GPU, you will need to reset the Runtime: _Runtime_ > _Factory reset runtime_ and repeat steps 3 and 4."
      ]
    },
    {
      "cell_type": "code",
      "metadata": {
        "id": "GIeFXS0F0zww",
        "colab": {
          "base_uri": "https://localhost:8080/",
          "height": 104
        },
        "outputId": "43098769-87c1-4414-9b44-0dd87a0ef7b9"
      },
      "source": [
        "%%shell\n",
        "set -e\n",
        "\n",
        "#---------------------------------------------------#\n",
        "JULIA_VERSION=\"1.7.1\" # any version ≥ 0.7.0\n",
        "JULIA_PACKAGES=\"IJulia BenchmarkTools Plots\"\n",
        "JULIA_PACKAGES_IF_GPU=\"CUDA\" # or CuArrays for older Julia versions\n",
        "JULIA_NUM_THREADS=2\n",
        "#---------------------------------------------------#\n",
        "\n",
        "if [ -n \"$COLAB_GPU\" ] && [ -z `which julia` ]; then\n",
        "  # Install Julia\n",
        "  JULIA_VER=`cut -d '.' -f -2 <<< \"$JULIA_VERSION\"`\n",
        "  echo \"Installing Julia $JULIA_VERSION on the current Colab Runtime...\"\n",
        "  BASE_URL=\"https://julialang-s3.julialang.org/bin/linux/x64\"\n",
        "  URL=\"$BASE_URL/$JULIA_VER/julia-$JULIA_VERSION-linux-x86_64.tar.gz\"\n",
        "  wget -nv $URL -O /tmp/julia.tar.gz # -nv means \"not verbose\"\n",
        "  tar -x -f /tmp/julia.tar.gz -C /usr/local --strip-components 1\n",
        "  rm /tmp/julia.tar.gz\n",
        "\n",
        "  # Install Packages\n",
        "  if [ \"$COLAB_GPU\" = \"1\" ]; then\n",
        "      JULIA_PACKAGES=\"$JULIA_PACKAGES $JULIA_PACKAGES_IF_GPU\"\n",
        "  fi\n",
        "  for PKG in `echo $JULIA_PACKAGES`; do\n",
        "    echo \"Installing Julia package $PKG...\"\n",
        "    julia -e 'using Pkg; pkg\"add '$PKG'; precompile;\"' &> /dev/null\n",
        "  done\n",
        "\n",
        "  # Install kernel and rename it to \"julia\"\n",
        "  echo \"Installing IJulia kernel...\"\n",
        "  julia -e 'using IJulia; IJulia.installkernel(\"julia\", env=Dict(\n",
        "      \"JULIA_NUM_THREADS\"=>\"'\"$JULIA_NUM_THREADS\"'\"))'\n",
        "  KERNEL_DIR=`julia -e \"using IJulia; print(IJulia.kerneldir())\"`\n",
        "  KERNEL_NAME=`ls -d \"$KERNEL_DIR\"/julia*`\n",
        "  mv -f $KERNEL_NAME \"$KERNEL_DIR\"/julia  \n",
        "\n",
        "  echo ''\n",
        "  echo \"Successfully installed `julia -v`!\"\n",
        "  echo \"Please reload this page (press Ctrl+R, ⌘+R, or the F5 key) then\"\n",
        "  echo \"jump to the 'Checking the Installation' section.\"\n",
        "fi"
      ],
      "execution_count": 1,
      "outputs": [
        {
          "output_type": "display_data",
          "data": {
            "text/latex": "Unrecognized magic \\texttt{\\%\\%shell}.\n\nJulia does not use the IPython \\texttt{\\%magic} syntax.   To interact with the IJulia kernel, use \\texttt{IJulia.somefunction(...)}, for example.  Julia macros, string macros, and functions can be used to accomplish most of the other functionalities of IPython magics.\n\n",
            "text/markdown": "Unrecognized magic `%%shell`.\n\nJulia does not use the IPython `%magic` syntax.   To interact with the IJulia kernel, use `IJulia.somefunction(...)`, for example.  Julia macros, string macros, and functions can be used to accomplish most of the other functionalities of IPython magics.\n",
            "text/plain": [
              "  Unrecognized magic \u001b[36m%%shell\u001b[39m.\n",
              "\n",
              "  Julia does not use the IPython \u001b[36m%magic\u001b[39m syntax. To interact with the IJulia\n",
              "  kernel, use \u001b[36mIJulia.somefunction(...)\u001b[39m, for example. Julia macros, string\n",
              "  macros, and functions can be used to accomplish most of the other\n",
              "  functionalities of IPython magics."
            ]
          },
          "metadata": {}
        }
      ]
    },
    {
      "cell_type": "markdown",
      "metadata": {
        "id": "-OS3Ac017T1i"
      },
      "source": [
        "# Checking the Installation\n",
        "The `versioninfo()` function should print your Julia version and some other info about the system:"
      ]
    },
    {
      "cell_type": "code",
      "metadata": {
        "id": "EEzvvzCl1i0F",
        "colab": {
          "base_uri": "https://localhost:8080/"
        },
        "outputId": "d635b2d0-8e8a-4f35-e08d-a1d67570a623"
      },
      "source": [
        "versioninfo()"
      ],
      "execution_count": 2,
      "outputs": [
        {
          "output_type": "stream",
          "name": "stdout",
          "text": [
            "Julia Version 1.7.1\n",
            "Commit ac5cc99908 (2021-12-22 19:35 UTC)\n",
            "Platform Info:\n",
            "  OS: Linux (x86_64-pc-linux-gnu)\n",
            "  CPU: Intel(R) Xeon(R) CPU @ 2.20GHz\n",
            "  WORD_SIZE: 64\n",
            "  LIBM: libopenlibm\n",
            "  LLVM: libLLVM-12.0.1 (ORCJIT, broadwell)\n",
            "Environment:\n",
            "  JULIA_NUM_THREADS = 2\n"
          ]
        }
      ]
    },
    {
      "cell_type": "code",
      "source": [
        "using BenchmarkTools\n",
        "\n",
        "M = rand(2^11, 2^11)\n",
        "\n",
        "@btime $M * $M;"
      ],
      "metadata": {
        "id": "YjM_qq54lCcs",
        "colab": {
          "base_uri": "https://localhost:8080/"
        },
        "outputId": "b5f2149e-e63a-4548-8942-5de5db72af43"
      },
      "execution_count": 3,
      "outputs": [
        {
          "output_type": "stream",
          "name": "stdout",
          "text": [
            "  460.962 ms (2 allocations: 32.00 MiB)\n"
          ]
        }
      ]
    },
    {
      "cell_type": "code",
      "metadata": {
        "id": "XciCcMAJOT3_",
        "colab": {
          "base_uri": "https://localhost:8080/"
        },
        "outputId": "1641f7c2-8ac4-4399-c424-e29bb163a6ce"
      },
      "source": [
        "if ENV[\"COLAB_GPU\"] == \"1\"\n",
        "    using CUDA\n",
        "\n",
        "    run(`nvidia-smi`)\n",
        "\n",
        "    # Create a new random matrix directly on the GPU:\n",
        "    M_on_gpu = CUDA.CURAND.rand(2^11, 2^11)\n",
        "    @btime $M_on_gpu * $M_on_gpu; nothing\n",
        "else\n",
        "    println(\"No GPU found.\")\n",
        "end"
      ],
      "execution_count": 4,
      "outputs": [
        {
          "output_type": "stream",
          "name": "stdout",
          "text": [
            "No GPU found.\n"
          ]
        }
      ]
    },
    {
      "cell_type": "markdown",
      "metadata": {
        "id": "8RC1QNNqk6h1"
      },
      "source": [
        "# Need Help?\n",
        "\n",
        "* Learning: https://julialang.org/learning/\n",
        "* Documentation: https://docs.julialang.org/\n",
        "* Questions & Discussions:\n",
        "  * https://discourse.julialang.org/\n",
        "  * http://julialang.slack.com/\n",
        "  * https://stackoverflow.com/questions/tagged/julia\n",
        "\n",
        "If you ever ask for help or file an issue about Julia, you should generally provide the output of `versioninfo()`."
      ]
    },
    {
      "cell_type": "markdown",
      "metadata": {
        "id": "2UMidUQB03vJ"
      },
      "source": [
        "Add new code cells by clicking the `+ Code` button (or _Insert_ > _Code cell_).\n",
        "\n",
        "Have fun!\n",
        "\n",
        "<img src=\"https://raw.githubusercontent.com/JuliaLang/julia-logo-graphics/master/images/julia-logo-mask.png\" height=\"100\" />"
      ]
    },
    {
      "cell_type": "code",
      "source": [
        "using Base.Threads\n",
        "nthreads()"
      ],
      "metadata": {
        "id": "9TEDkQCsGZFo",
        "colab": {
          "base_uri": "https://localhost:8080/"
        },
        "outputId": "e16a4315-7077-4fcb-c395-93225ba03e46"
      },
      "execution_count": 5,
      "outputs": [
        {
          "output_type": "execute_result",
          "data": {
            "text/plain": [
              "2"
            ]
          },
          "metadata": {},
          "execution_count": 5
        }
      ]
    },
    {
      "cell_type": "code",
      "source": [
        "@threads for i=1:10\n",
        "println(\"iteration $i on thread $(threadid())\")\n",
        "end"
      ],
      "metadata": {
        "id": "7NgBts36HrRW",
        "colab": {
          "base_uri": "https://localhost:8080/"
        },
        "outputId": "db5c3a76-6d45-489e-b809-61b3d3b64e3e"
      },
      "execution_count": 6,
      "outputs": [
        {
          "output_type": "stream",
          "name": "stdout",
          "text": [
            "iteration 1 on thread 1\n",
            "iteration 2 on thread 1\n",
            "iteration 3 on thread 1\n",
            "iteration 4 on thread 1\n",
            "iteration 5 on thread 1\n",
            "iteration 6 on thread 2\n",
            "iteration 7 on thread 2\n",
            "iteration 8 on thread 2\n",
            "iteration 9 on thread 2\n",
            "iteration 10 on thread 2\n"
          ]
        }
      ]
    },
    {
      "cell_type": "markdown",
      "source": [
        "This will split the loop task to 2 threads on two cores."
      ],
      "metadata": {
        "id": "3lmG6yCVI_aN"
      }
    },
    {
      "cell_type": "code",
      "source": [
        "a = zeros(10)\n",
        "@threads for i = 1:10\n",
        "      a[i] = threadid()\n",
        "end"
      ],
      "metadata": {
        "id": "XxWf4RMIGleU"
      },
      "execution_count": 7,
      "outputs": []
    },
    {
      "cell_type": "code",
      "source": [
        "a"
      ],
      "metadata": {
        "id": "ayQNGOTZGvsT",
        "colab": {
          "base_uri": "https://localhost:8080/"
        },
        "outputId": "9b43f24e-1739-412b-9d80-18f7612e42b7"
      },
      "execution_count": 8,
      "outputs": [
        {
          "output_type": "execute_result",
          "data": {
            "text/plain": [
              "10-element Vector{Float64}:\n",
              " 1.0\n",
              " 1.0\n",
              " 1.0\n",
              " 1.0\n",
              " 1.0\n",
              " 2.0\n",
              " 2.0\n",
              " 2.0\n",
              " 2.0\n",
              " 2.0"
            ]
          },
          "metadata": {},
          "execution_count": 8
        }
      ]
    },
    {
      "cell_type": "markdown",
      "source": [
        "This array is filled in parallel and separate. This is called thread-safe."
      ],
      "metadata": {
        "id": "UdPLuQGBNR57"
      }
    },
    {
      "cell_type": "code",
      "source": [
        "nthreads()\n",
        "n = Int64(1e8)\n",
        "a = zeros(n)\n",
        "typeof(a)"
      ],
      "metadata": {
        "id": "ZN81TQBiNdwf",
        "colab": {
          "base_uri": "https://localhost:8080/"
        },
        "outputId": "e99dc4ab-c09d-46c6-ea8f-201113276687"
      },
      "execution_count": 9,
      "outputs": [
        {
          "output_type": "execute_result",
          "data": {
            "text/plain": [
              "Vector{Float64} (alias for Array{Float64, 1})"
            ]
          },
          "metadata": {},
          "execution_count": 9
        }
      ]
    },
    {
      "cell_type": "code",
      "source": [
        "# single thread\n",
        "@time for i in 1:n\n",
        "a[i] = log10(i)\n",
        "end"
      ],
      "metadata": {
        "id": "jcLycQpTNebv",
        "colab": {
          "base_uri": "https://localhost:8080/"
        },
        "outputId": "2ef27fad-2e22-4c49-fa45-5ea40bba7c25"
      },
      "execution_count": 10,
      "outputs": [
        {
          "output_type": "stream",
          "name": "stdout",
          "text": [
            " 18.957808 seconds (400.05 M allocations: 7.453 GiB, 8.55% gc time, 0.13% compilation time)\n"
          ]
        }
      ]
    },
    {
      "cell_type": "code",
      "source": [
        "# 2 threads\n",
        "using Base.Threads\n",
        "@time @threads for i in 1:n\n",
        "a[i] = log10(i)\n",
        "end"
      ],
      "metadata": {
        "id": "utJ5e_NgNehp",
        "colab": {
          "base_uri": "https://localhost:8080/"
        },
        "outputId": "9d208d39-4c19-4e51-85ef-9e266122395b"
      },
      "execution_count": 11,
      "outputs": [
        {
          "output_type": "stream",
          "name": "stdout",
          "text": [
            "  6.521849 seconds (200.02 M allocations: 2.981 GiB, 17.59% gc time, 0.54% compilation time)\n"
          ]
        }
      ]
    },
    {
      "cell_type": "markdown",
      "source": [
        ""
      ],
      "metadata": {
        "id": "jatZHpRBRAPO"
      }
    },
    {
      "cell_type": "code",
      "source": [
        "total = 0\n",
        "@threads for i = 1:Int(1e6)\n",
        "global total += i\n",
        "end\n",
        "println(\"total = \", total)"
      ],
      "metadata": {
        "id": "urcLnjeGNenV",
        "colab": {
          "base_uri": "https://localhost:8080/"
        },
        "outputId": "49a0da30-a589-4081-c9f0-30d6b82e4a75"
      },
      "execution_count": 12,
      "outputs": [
        {
          "output_type": "stream",
          "name": "stdout",
          "text": [
            "total = 262699587711\n"
          ]
        }
      ]
    },
    {
      "cell_type": "markdown",
      "source": [
        "It is not thread-safe code\n",
        "1. race condition\n",
        "2. result varies every time\n",
        "\n",
        "The problem can be solved by an atomic variable total. The idea is that only one thread can update atomic variable at a time. All other threads wait for the variable to be released."
      ],
      "metadata": {
        "id": "j19k-AM8RckQ"
      }
    },
    {
      "cell_type": "code",
      "source": [
        "total = Atomic{Int64}(0)\n",
        "@threads for i in 1:Int(1e6)\n",
        "atomic_add!(total, i)\n",
        "end\n",
        "print(\"total = \", total[])"
      ],
      "metadata": {
        "id": "BQBSRXjWREf3",
        "colab": {
          "base_uri": "https://localhost:8080/"
        },
        "outputId": "de8dcc0a-e731-4d33-8b0a-e1961d2755d0"
      },
      "execution_count": 13,
      "outputs": [
        {
          "output_type": "stream",
          "name": "stdout",
          "text": [
            "total = 500000500000"
          ]
        }
      ]
    },
    {
      "cell_type": "markdown",
      "source": [
        "Although we get the same result. But the code is much slower because threads must wait the variable to be released."
      ],
      "metadata": {
        "id": "A0_X2BRuSv08"
      }
    },
    {
      "cell_type": "code",
      "source": [
        "n = Int64(1e8)\n",
        "total = Int128(0)\n",
        "@time for i in 1:n\n",
        "global total += i\n",
        "end\n",
        "println(\"total = \", total)"
      ],
      "metadata": {
        "id": "PBHkFQl2REp4",
        "colab": {
          "base_uri": "https://localhost:8080/"
        },
        "outputId": "bb8d5ece-6477-478c-94aa-c38f066bcf0d"
      },
      "execution_count": 14,
      "outputs": [
        {
          "output_type": "stream",
          "name": "stdout",
          "text": [
            " 21.539827 seconds (400.00 M allocations: 8.941 GiB, 8.88% gc time, 0.03% compilation time)\n",
            "total = 5000000050000000\n"
          ]
        }
      ]
    },
    {
      "cell_type": "code",
      "source": [
        "using BenchmarkTools\n",
        "n = Int64(1e8)\n",
        "total = Int128(0)\n",
        "@btime for i in 1:n\n",
        "global total += i\n",
        "end\n",
        "print(\"total = \", total)"
      ],
      "metadata": {
        "id": "kKf67PhhREuF",
        "colab": {
          "base_uri": "https://localhost:8080/"
        },
        "outputId": "cead880a-49de-4162-e529-047249e727fb"
      },
      "execution_count": 15,
      "outputs": [
        {
          "output_type": "stream",
          "name": "stdout",
          "text": [
            "  16.217 s (399998979 allocations: 8.94 GiB)\n",
            "total = 20000000200000000"
          ]
        }
      ]
    },
    {
      "cell_type": "code",
      "source": [
        "function quick(n)\n",
        "total = Int128(0)\n",
        "  for i in 1:n\n",
        "    total += i\n",
        "  end\n",
        "  return(total)\n",
        "end"
      ],
      "metadata": {
        "id": "hjz5vEnDVW7H",
        "colab": {
          "base_uri": "https://localhost:8080/"
        },
        "outputId": "0cdf38c5-99ba-4d98-fe69-67f470049a76"
      },
      "execution_count": 16,
      "outputs": [
        {
          "output_type": "execute_result",
          "data": {
            "text/plain": [
              "quick (generic function with 1 method)"
            ]
          },
          "metadata": {},
          "execution_count": 16
        }
      ]
    },
    {
      "cell_type": "code",
      "source": [
        "@btime quick(Int64(1e8))\n",
        "@btime quick(Int64(1e9))\n",
        "@btime quick(Int64(1e15))"
      ],
      "metadata": {
        "id": "TpIw6CppYz5c",
        "colab": {
          "base_uri": "https://localhost:8080/"
        },
        "outputId": "d5b5871a-d6e0-47f0-b057-b6aa8767e9a9"
      },
      "execution_count": 17,
      "outputs": [
        {
          "output_type": "stream",
          "name": "stdout",
          "text": [
            "  2.252 ns (0 allocations: 0 bytes)\n",
            "  2.252 ns (0 allocations: 0 bytes)\n",
            "  1.886 ns (0 allocations: 0 bytes)\n"
          ]
        },
        {
          "output_type": "execute_result",
          "data": {
            "text/plain": [
              "500000000000000500000000000000"
            ]
          },
          "metadata": {},
          "execution_count": 17
        }
      ]
    },
    {
      "cell_type": "markdown",
      "source": [
        "# Slow series converge"
      ],
      "metadata": {
        "id": "-exWg2qEp4uI"
      }
    },
    {
      "cell_type": "code",
      "source": [
        "# An integer exclusion function checks whether some digits in the integer numbers\n",
        "function digitsin(digits::Int, num)\n",
        "  base = 10\n",
        "  while (digits ÷ base > 0)\n",
        "    base *=10\n",
        "  end\n",
        "  while num > 0\n",
        "    if (num % base) == digits\n",
        "      return true\n",
        "    end\n",
        "    num ÷=10\n",
        "  end\n",
        "  return false\n",
        "end\n"
      ],
      "metadata": {
        "id": "GAPGkJNLZEz-",
        "colab": {
          "base_uri": "https://localhost:8080/"
        },
        "outputId": "3f3aca6a-3239-435e-d7cd-aadc6f8ff0cf"
      },
      "execution_count": 18,
      "outputs": [
        {
          "output_type": "execute_result",
          "data": {
            "text/plain": [
              "digitsin (generic function with 1 method)"
            ]
          },
          "metadata": {},
          "execution_count": 18
        }
      ]
    },
    {
      "cell_type": "code",
      "source": [
        "function slow(n::Int64, digits::Int)\n",
        "  total = Float64(0)\n",
        "  for i in 1:n\n",
        "    if !digitsin(digits, i)\n",
        "      total += 1.0 / i\n",
        "    end\n",
        "  end\n",
        "  return total\n",
        "end\n"
      ],
      "metadata": {
        "id": "dTLfYHlys4J9",
        "colab": {
          "base_uri": "https://localhost:8080/"
        },
        "outputId": "a12aacef-5aef-4b69-d378-882b8a029f07"
      },
      "execution_count": 23,
      "outputs": [
        {
          "output_type": "execute_result",
          "data": {
            "text/plain": [
              "slow (generic function with 1 method)"
            ]
          },
          "metadata": {},
          "execution_count": 23
        }
      ]
    },
    {
      "cell_type": "code",
      "source": [
        "@btime slow(Int64(1e8), 9)"
      ],
      "metadata": {
        "id": "ON97TW4ks81p",
        "colab": {
          "base_uri": "https://localhost:8080/"
        },
        "outputId": "d261aeff-8ea3-4a4b-c3e2-a04947973d97"
      },
      "execution_count": 24,
      "outputs": [
        {
          "output_type": "stream",
          "name": "stdout",
          "text": [
            "  2.907 s (0 allocations: 0 bytes)\n"
          ]
        },
        {
          "output_type": "execute_result",
          "data": {
            "text/plain": [
              "13.277605949858103"
            ]
          },
          "metadata": {},
          "execution_count": 24
        }
      ]
    },
    {
      "cell_type": "markdown",
      "source": [
        "# Multi-thread using atomic variable"
      ],
      "metadata": {
        "id": "mgUVWQSy0fd7"
      }
    },
    {
      "cell_type": "code",
      "source": [
        "# Use atomic variable to rewrite the code. despite multiple threading, there will be a lot of waiting time. \n",
        "using Base.Threads\n",
        "using BenchmarkTools\n",
        "function slow(n::Int64, digits::Int)\n",
        "  total = Atomic{Float64}(0)\n",
        "  @threads for i in 1:n\n",
        "    if !digitsin(digits, i)\n",
        "      atomic_add!(total, 1.0 / i)\n",
        "    end\n",
        "  end\n",
        "  return total[]\n",
        "end"
      ],
      "metadata": {
        "colab": {
          "base_uri": "https://localhost:8080/"
        },
        "id": "IzfpzlbCxz7j",
        "outputId": "ac0974a9-a466-41cb-83c4-87cb80889a8c"
      },
      "execution_count": 28,
      "outputs": [
        {
          "output_type": "execute_result",
          "data": {
            "text/plain": [
              "slow (generic function with 1 method)"
            ]
          },
          "metadata": {},
          "execution_count": 28
        }
      ]
    },
    {
      "cell_type": "code",
      "source": [
        "@btime slow(Int64(1e8), 9)"
      ],
      "metadata": {
        "colab": {
          "base_uri": "https://localhost:8080/"
        },
        "id": "ZdSpm8wZ0GlT",
        "outputId": "f83b4d9e-0081-4782-edb7-250099b8f260"
      },
      "execution_count": 26,
      "outputs": [
        {
          "output_type": "stream",
          "name": "stdout",
          "text": [
            "  2.740 s (12 allocations: 1.03 KiB)\n"
          ]
        },
        {
          "output_type": "execute_result",
          "data": {
            "text/plain": [
              "13.277605949858101"
            ]
          },
          "metadata": {},
          "execution_count": 26
        }
      ]
    },
    {
      "cell_type": "markdown",
      "source": [
        "# Multi-thread updating separately\n",
        "Each thread is updating its own sum while reducing waiting time."
      ],
      "metadata": {
        "id": "UtBtVbOn1Pmh"
      }
    },
    {
      "cell_type": "code",
      "source": [
        "using Base.Threads\n",
        "using BenchmarkTools\n",
        "function slow(n::Int64, digits::Int)\n",
        "  total = zeros(Float64, nthreads())\n",
        "  @threads for i in 1:n\n",
        "    if !digitsin(digits, i)\n",
        "      total[threadid()] += 1.0 / i\n",
        "    end\n",
        "  end\n",
        "  return sum(total)\n",
        "end"
      ],
      "metadata": {
        "colab": {
          "base_uri": "https://localhost:8080/"
        },
        "id": "DKB-JdCB0KmL",
        "outputId": "dcd4df69-a06c-46e5-bfef-0becc8cd1c5e"
      },
      "execution_count": 32,
      "outputs": [
        {
          "output_type": "execute_result",
          "data": {
            "text/plain": [
              "slow (generic function with 1 method)"
            ]
          },
          "metadata": {},
          "execution_count": 32
        }
      ]
    },
    {
      "cell_type": "code",
      "source": [
        "@btime slow(Int64(1e8), 9)"
      ],
      "metadata": {
        "colab": {
          "base_uri": "https://localhost:8080/"
        },
        "id": "OrvIMWXA2Cv8",
        "outputId": "5ed00e47-2753-49bd-974e-1b945fd5ded2"
      },
      "execution_count": 33,
      "outputs": [
        {
          "output_type": "stream",
          "name": "stdout",
          "text": [
            "  2.557 s (13 allocations: 1.12 KiB)\n"
          ]
        },
        {
          "output_type": "execute_result",
          "data": {
            "text/plain": [
              "13.277605949855722"
            ]
          },
          "metadata": {},
          "execution_count": 33
        }
      ]
    },
    {
      "cell_type": "markdown",
      "source": [
        "False sharing effect arises when several threads are writing into variables placed close enough to each other to end up in the same cache line. Cache lines are chunks of memory handled by the cache. If any two threads are updating variable that end up in the same cache line, the cache line will have to migrate between the two threads' caches at the cost of performance.\n",
        "In general, we want to align shared global data to cache line boundaries, or avoid storing thread-specific data in an array indexed by the thread id or rank. The solution is to introduce some spacing between array elements by using function *space()* so that data from different threads do not end up in the same cache line"
      ],
      "metadata": {
        "id": "os-ppW4g3Dgg"
      }
    },
    {
      "cell_type": "markdown",
      "source": [
        "# Optimized function"
      ],
      "metadata": {
        "id": "gKAdCo974qrn"
      }
    },
    {
      "cell_type": "code",
      "source": [
        "function space(n::Int64, digits::Int)\n",
        "  space = 8\n",
        "  total = zeros(Float64, nthreads()*space)\n",
        "  @threads for i in 1:n\n",
        "    if !digitsin(digits, i)\n",
        "      total[threadid()*space] += 1.0 / i\n",
        "    end\n",
        "  end\n",
        "  return sum(total)\n",
        "end"
      ],
      "metadata": {
        "colab": {
          "base_uri": "https://localhost:8080/"
        },
        "id": "QjaUyvex2F1m",
        "outputId": "527860cd-ca70-4d45-e6f7-d4ecb3497571"
      },
      "execution_count": 34,
      "outputs": [
        {
          "output_type": "execute_result",
          "data": {
            "text/plain": [
              "space (generic function with 1 method)"
            ]
          },
          "metadata": {},
          "execution_count": 34
        }
      ]
    },
    {
      "cell_type": "code",
      "source": [
        "@btime space(Int64(1e8), 9)"
      ],
      "metadata": {
        "colab": {
          "base_uri": "https://localhost:8080/"
        },
        "id": "IxVqnj2q52c7",
        "outputId": "67a969c5-8f8d-46ef-b19d-e539c9112667"
      },
      "execution_count": 36,
      "outputs": [
        {
          "output_type": "stream",
          "name": "stdout",
          "text": [
            "  2.698 s (13 allocations: 1.23 KiB)\n"
          ]
        },
        {
          "output_type": "execute_result",
          "data": {
            "text/plain": [
              "13.277605949855722"
            ]
          },
          "metadata": {},
          "execution_count": 36
        }
      ]
    },
    {
      "cell_type": "code",
      "source": [
        "@btime slow(Int64(1e8), 9)"
      ],
      "metadata": {
        "colab": {
          "base_uri": "https://localhost:8080/"
        },
        "id": "0OwpOLrH57J1",
        "outputId": "1ae2f7b7-11e2-4f76-edc6-956df0b5dc04"
      },
      "execution_count": 37,
      "outputs": [
        {
          "output_type": "stream",
          "name": "stdout",
          "text": [
            "  2.555 s (13 allocations: 1.12 KiB)\n"
          ]
        },
        {
          "output_type": "execute_result",
          "data": {
            "text/plain": [
              "13.277605949855722"
            ]
          },
          "metadata": {},
          "execution_count": 37
        }
      ]
    },
    {
      "cell_type": "markdown",
      "source": [
        "# Multi-thread using heavy loops\n",
        "Classical task parallelism. We divide the sum into pieces, each to be processed by an individual thread"
      ],
      "metadata": {
        "id": "vMVXESZdDmDV"
      }
    },
    {
      "cell_type": "code",
      "source": [
        "using Base.Threads\n",
        "using BenchmarkTools\n",
        "function slow(n::Int64, digits::Int)\n",
        "  numthreads = nthreads()\n",
        "  threadSize = floor(Int64, n/numthreads)\n",
        "  total = zeros(Float64, numthreads)\n",
        "  @threads for threadid in 1:numthreads\n",
        "    local start = (threadid-1)*threadSize + 1\n",
        "    local finish = threadid < numthreads ? (threadid-1)*threadSize + threadSize : n\n",
        "    println(\"thread $threadid: from $start to $finish\")\n",
        "    for i in start:finish\n",
        "      if !digitsin(digits, i)\n",
        "        total[threadid] += 1.0 / i\n",
        "      end\n",
        "    end\n",
        "  end\n",
        "  return sum(total)\n",
        "end"
      ],
      "metadata": {
        "colab": {
          "base_uri": "https://localhost:8080/"
        },
        "id": "wBSgy3046Swg",
        "outputId": "88ffe25c-d224-449b-f6f1-914f7f1e4627"
      },
      "execution_count": 43,
      "outputs": [
        {
          "output_type": "execute_result",
          "data": {
            "text/plain": [
              "slow (generic function with 1 method)"
            ]
          },
          "metadata": {},
          "execution_count": 43
        }
      ]
    },
    {
      "cell_type": "code",
      "source": [
        "@btime slow(Int64(1e8), 9)"
      ],
      "metadata": {
        "colab": {
          "base_uri": "https://localhost:8080/"
        },
        "id": "Of3Wcyxd8DOn",
        "outputId": "ff3d3e2f-d808-4742-ff61-b8263e436d98"
      },
      "execution_count": 44,
      "outputs": [
        {
          "output_type": "stream",
          "name": "stdout",
          "text": [
            "thread 1: from 1 to 50000000\n",
            "thread 2: from 50000001 to 100000000\n",
            "thread 1: from 1 to 50000000\n",
            "thread 2: from 50000001 to 100000000\n",
            "thread 1: from 1 to 50000000\n",
            "thread 2: from 50000001 to 100000000\n",
            "thread 1: from 1 to 50000000\n",
            "thread 2: from 50000001 to 100000000\n",
            "thread 1: from 1 to 50000000\n",
            "thread 2: from 50000001 to 100000000\n",
            "thread 1: from 1 to 50000000\n",
            "thread 2: from 50000001 to 100000000\n",
            "thread 1: from 1 to 50000000\n",
            "thread 2: from 50000001 to 100000000\n",
            "  2.690 s (84 allocations: 3.23 KiB)\n"
          ]
        },
        {
          "output_type": "execute_result",
          "data": {
            "text/plain": [
              "13.277605949855722"
            ]
          },
          "metadata": {},
          "execution_count": 44
        }
      ]
    }
  ]
}